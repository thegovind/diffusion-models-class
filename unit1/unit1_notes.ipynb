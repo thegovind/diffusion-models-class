{
 "cells": [
  {
   "attachments": {},
   "cell_type": "markdown",
   "metadata": {},
   "source": [
    "Todo:\n",
    "- Hackathon\n",
    "- Units 1-4\n",
    "- Optimize existing repo\n",
    "- Add AzureML to the mix"
   ]
  }
 ],
 "metadata": {
  "language_info": {
   "name": "python"
  },
  "orig_nbformat": 4
 },
 "nbformat": 4,
 "nbformat_minor": 2
}
